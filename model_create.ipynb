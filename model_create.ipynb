{
  "cells": [
    {
      "metadata": {
        "_execution_state": "idle",
        "_uuid": "72334cb006d02a4bcfc2a2fe622524eba824c6f8",
        "_cell_guid": "f67b9393-8ea1-4e23-b856-2ce149cfe421",
        "collapsed": true,
        "trusted": false
      },
      "cell_type": "code",
      "source": "import pandas as pd\nimport numpy as np\nimport matplotlib.pyplot as plt\nimport matplotlib.image as mpimg\nimport seaborn as sns\n%matplotlib inline\n\nnp.random.seed(2)\n\nfrom sklearn.model_selection import train_test_split\nfrom sklearn.metrics import confusion_matrix\nimport itertools\n\nfrom keras.utils.np_utils import to_categorical # convert to one-hot-encoding\nfrom keras.models import Sequential\nfrom keras.layers import Dense, Dropout, Flatten, Conv2D, MaxPool2D\nfrom keras.optimizers import RMSprop\nfrom keras.preprocessing.image import ImageDataGenerator\nfrom keras.callbacks import ReduceLROnPlateau\n\n\nsns.set(style='white', context='notebook', palette='deep')",
      "execution_count": null,
      "outputs": []
    },
    {
      "metadata": {
        "_execution_state": "idle",
        "_uuid": "84bbd5ab8d7895bd430d5ecfe2f7ddf77baa7b74",
        "_cell_guid": "5e51d00e-62fd-4141-bf73-50ac4f2da7d0",
        "collapsed": true,
        "trusted": false
      },
      "cell_type": "code",
      "source": "\ntrain = pd.read_csv(\"../input/train.csv\")\ntest = pd.read_csv(\"../input/test.csv\")",
      "execution_count": null,
      "outputs": []
    },
    {
      "metadata": {
        "_execution_state": "idle",
        "_uuid": "1213b979d5ed3e0d13824d17d694c79d2ece92fa",
        "_cell_guid": "86570a36-5c20-460a-9dfd-2070548532a7",
        "collapsed": true,
        "trusted": false
      },
      "cell_type": "code",
      "source": "Y_train = train[\"label\"]\n\n\nX_train = train.drop(labels = [\"label\"],axis = 1) \n\n\ndel train \n",
      "execution_count": null,
      "outputs": []
    },
    {
      "metadata": {
        "_execution_state": "idle",
        "_uuid": "b5d4f8fcf2a967e2c7d57daedf95aa8c5ab7f8cb",
        "_cell_guid": "cdc4340b-6e24-4e12-be99-ac806098ff17",
        "collapsed": true,
        "trusted": false
      },
      "cell_type": "code",
      "source": "X_train = X_train / 255.0\ntest = test / 255.0",
      "execution_count": null,
      "outputs": []
    },
    {
      "metadata": {
        "_execution_state": "idle",
        "_uuid": "f0a6ad80dab8e0f2c2e46165ccd9cd82dd162bc3",
        "_cell_guid": "34b6a5f7-8fd2-4387-8ef4-c9dc19584fed",
        "collapsed": true,
        "trusted": false
      },
      "cell_type": "code",
      "source": "X_train = X_train.values.reshape(-1,28,28,1)\ntest = test.values.reshape(-1,28,28,1)",
      "execution_count": null,
      "outputs": []
    },
    {
      "metadata": {
        "_execution_state": "idle",
        "_uuid": "cabefd1478d5c1bdfe57fd6a34395340916a854c",
        "_cell_guid": "4b7f3e78-44dc-4561-b1f0-9429ee024cf4",
        "collapsed": true,
        "trusted": false
      },
      "cell_type": "code",
      "source": "Y_train = to_categorical(Y_train, num_classes = 10)",
      "execution_count": null,
      "outputs": []
    },
    {
      "metadata": {
        "_execution_state": "idle",
        "_uuid": "6e51c925c6e0f1b936679c9649fef345c853555f",
        "_cell_guid": "3a698301-9759-4279-ae48-fd980f89ea53",
        "collapsed": true,
        "trusted": false
      },
      "cell_type": "code",
      "source": "# Set the random seed\nrandom_seed = 2",
      "execution_count": null,
      "outputs": []
    },
    {
      "metadata": {
        "_execution_state": "idle",
        "_uuid": "b779ac76d8317647db92d5a88b4098d212d72884",
        "_cell_guid": "dcd25ebb-d845-4d32-9867-082e352b1396",
        "collapsed": true,
        "trusted": false
      },
      "cell_type": "code",
      "source": "# Split the train and the validation set for the fitting\nX_train, X_val, Y_train, Y_val = train_test_split(X_train, Y_train, test_size = 0.1, random_state=random_seed)",
      "execution_count": null,
      "outputs": []
    },
    {
      "metadata": {
        "_execution_state": "idle",
        "_uuid": "e0dae8943d3d35f075dba3d7ba31bde1d4bf2ff4",
        "_cell_guid": "5f76131b-4ba0-45f1-a98c-bd4e7d561793",
        "collapsed": true,
        "trusted": false
      },
      "cell_type": "code",
      "source": "g = plt.imshow(X_train[0][:,:,0])",
      "execution_count": null,
      "outputs": []
    },
    {
      "metadata": {
        "_execution_state": "idle",
        "_uuid": "f7991ef6871a26f9fa57acdcd460a69bab53e804",
        "_cell_guid": "1e0f3f88-2ad7-459e-8e02-aecc5f3511ae",
        "collapsed": true,
        "trusted": false
      },
      "cell_type": "code",
      "source": "model = Sequential()\n\nmodel.add(Conv2D(filters = 32, kernel_size = (5,5),padding = 'Same', \n                 activation ='relu', input_shape = (28,28,1)))\nmodel.add(Conv2D(filters = 32, kernel_size = (5,5),padding = 'Same', \n                 activation ='relu'))\nmodel.add(MaxPool2D(pool_size=(2,2)))\nmodel.add(Dropout(0.25))\n\n\nmodel.add(Conv2D(filters = 64, kernel_size = (3,3),padding = 'Same', \n                 activation ='relu'))\nmodel.add(Conv2D(filters = 64, kernel_size = (3,3),padding = 'Same', \n                 activation ='relu'))\nmodel.add(MaxPool2D(pool_size=(2,2), strides=(2,2)))\nmodel.add(Dropout(0.25))\n\n\nmodel.add(Flatten())\nmodel.add(Dense(256, activation = \"relu\"))\nmodel.add(Dropout(0.5))\nmodel.add(Dense(10, activation = \"softmax\"))",
      "execution_count": null,
      "outputs": []
    },
    {
      "metadata": {
        "_execution_state": "idle",
        "_uuid": "420c704367b397b8255fefe9d882b35ac8929b95",
        "_cell_guid": "a4c55409-6a65-400a-b5e8-a1dc535429c0",
        "collapsed": true,
        "trusted": false
      },
      "cell_type": "code",
      "source": "optimizer = Adam()",
      "execution_count": null,
      "outputs": []
    },
    {
      "metadata": {
        "_execution_state": "idle",
        "_uuid": "b4c0288622227a3cd05479aa765e324dbb852f34",
        "_cell_guid": "0bd89b79-1a74-40da-af9a-7a76a8b96ff2",
        "collapsed": true,
        "trusted": false
      },
      "cell_type": "code",
      "source": "model.compile(optimizer = optimizer , loss = \"categorical_crossentropy\", metrics=[\"accuracy\"])",
      "execution_count": null,
      "outputs": []
    },
    {
      "metadata": {
        "_execution_state": "idle",
        "_uuid": "c4a5b4e462ec5362c47eef4fcc7956fd4e203307",
        "_cell_guid": "b5987a18-6bbe-42a2-9d31-333ebc4f7af1",
        "collapsed": true,
        "trusted": false
      },
      "cell_type": "code",
      "source": "learning_rate_reduction = ReduceLROnPlateau(monitor='val_acc', \n                                            patience=3, \n                                            verbose=1, \n                                            factor=0.5, \n                                            min_lr=0.00001)",
      "execution_count": null,
      "outputs": []
    },
    {
      "metadata": {
        "_execution_state": "idle",
        "_uuid": "26b0647c46efdb6b1096cf7335a7bf2a3417543a",
        "_cell_guid": "970db455-b393-4b25-806d-92c6766c12c0",
        "collapsed": true,
        "trusted": false
      },
      "cell_type": "code",
      "source": "epochs = 30 \nbatch_size = 86",
      "execution_count": null,
      "outputs": []
    },
    {
      "metadata": {
        "_execution_state": "idle",
        "_uuid": "21d6192c87d92d497c797656474bccd9cefc5647",
        "_cell_guid": "b342befe-1a6f-44bf-8dab-28033a729122",
        "collapsed": true,
        "trusted": false
      },
      "cell_type": "code",
      "source": "datagen = ImageDataGenerator(\n        featurewise_center=False,  # set input mean to 0 over the dataset\n        samplewise_center=False,  # set each sample mean to 0\n        featurewise_std_normalization=False,  # divide inputs by std of the dataset\n        samplewise_std_normalization=False,  # divide each input by its std\n        zca_whitening=False,  # apply ZCA whitening\n        rotation_range=10,  # randomly rotate images in the range (degrees, 0 to 180)\n        zoom_range = 0.1, # Randomly zoom image \n        width_shift_range=0.1,  # randomly shift images horizontally (fraction of total width)\n        height_shift_range=0.1,  # randomly shift images vertically (fraction of total height)\n        horizontal_flip=False,  # randomly flip images\n        vertical_flip=False)  # randomly flip images\n\n\ndatagen.fit(X_train)",
      "execution_count": null,
      "outputs": []
    },
    {
      "metadata": {
        "_execution_state": "idle",
        "_uuid": "cf36b3d029f95b553be02d612e097a9769ee8252",
        "_cell_guid": "b453af8d-9736-43e3-b486-7a1cd7dd8909",
        "collapsed": true,
        "trusted": false
      },
      "cell_type": "code",
      "source": "history = model.fit_generator(datagen.flow(X_train,Y_train, batch_size=batch_size),\n                              epochs = epochs, validation_data = (X_val,Y_val),\n                              verbose = 2, steps_per_epoch=X_train.shape[0] // batch_size\n                              , callbacks=[learning_rate_reduction])",
      "execution_count": null,
      "outputs": []
    },
    {
      "metadata": {
        "trusted": true,
        "_uuid": "534d3d800cd02f107296b8248de78b1151761197"
      },
      "cell_type": "code",
      "source": "model.save(\"asd.h5\")",
      "execution_count": null,
      "outputs": []
    }
  ],
  "metadata": {
    "kernelspec": {
      "display_name": "Python 3",
      "language": "python",
      "name": "python3"
    },
    "language_info": {
      "name": "python",
      "version": "3.6.6",
      "mimetype": "text/x-python",
      "codemirror_mode": {
        "name": "ipython",
        "version": 3
      },
      "pygments_lexer": "ipython3",
      "nbconvert_exporter": "python",
      "file_extension": ".py"
    }
  },
  "nbformat": 4,
  "nbformat_minor": 1
}